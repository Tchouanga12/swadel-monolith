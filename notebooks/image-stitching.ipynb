{
 "cells": [
  {
   "cell_type": "code",
   "execution_count": 14,
   "metadata": {},
   "outputs": [
    {
     "name": "stdout",
     "output_type": "stream",
     "text": [
      "[INFO] stitching images...\n"
     ]
    }
   ],
   "source": [
    "import cv2\n",
    "import numpy as np\n",
    "import imutils\n",
    "from sklearn.neighbors import KDTree\n",
    "import matplotlib.pyplot as plt\n",
    "\n",
    "images = ['image_1.jpg', 'image_2.jpg', 'image_3.jpg', 'image_4.jpg', 'image_5.jpg']\n",
    "imgs = []\n",
    "for imagePath in images:\n",
    "    image = cv2.imread(imagePath)\n",
    "    imgs.append(cv2.resize(image, (int(image.shape[0]/8),int(image.shape[1]/8))))\n",
    "\n",
    "print(\"[INFO] stitching images...\")\n",
    "stitcher = cv2.createStitcher() if imutils.is_cv3() else cv2.Stitcher_create()\n",
    "stitched = np.zeros((imgs[0].shape[0],imgs[0].shape[1]*len(images)))\n",
    "(status, stitched) = stitcher.stitch(imgs, stitched)\n",
    "\n",
    "if status == 0:\n",
    "    # write the output stitched image to disk\n",
    "    cv2.imwrite(\"stitched_image.jpg\", stitched)\n",
    " \n",
    "    # display the output stitched image to our screen\n",
    "    cv2.imshow(\"Stitched\", stitched)\n",
    "    cv2.waitKey(0)"
   ]
  },
  {
   "cell_type": "code",
   "execution_count": 12,
   "metadata": {},
   "outputs": [],
   "source": [
    "cv2.destroyAllWindows()"
   ]
  }
 ],
 "metadata": {
  "kernelspec": {
   "display_name": "Python 3",
   "language": "python",
   "name": "python3"
  },
  "language_info": {
   "codemirror_mode": {
    "name": "ipython",
    "version": 3
   },
   "file_extension": ".py",
   "mimetype": "text/x-python",
   "name": "python",
   "nbconvert_exporter": "python",
   "pygments_lexer": "ipython3",
   "version": "3.6.7"
  }
 },
 "nbformat": 4,
 "nbformat_minor": 2
}
