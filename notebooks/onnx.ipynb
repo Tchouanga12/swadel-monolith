{
 "cells": [
  {
   "cell_type": "code",
   "execution_count": 4,
   "metadata": {},
   "outputs": [],
   "source": [
    "import torch\n",
    "import torch.onnx\n",
    "import sys\n",
    "\n",
    "sys.path.append(\"/home/aswin/Documents/Courses/Udacity/Intel-Edge/Work/EdgeApp/License_Plate_Recognition/SOLID-Project-Framework/app/data/training/HandWrittenDigitsDataGAN\")\n",
    "\n",
    "from DiscrimatorNet import DiscrimatorNet\n",
    "from GeneratorNet import GeneratorNet\n",
    "\n",
    "from vision import images_to_vectors, vectors_to_images, noise, ones_target, zeros_target\n",
    "\n",
    "weights_path1 = \"ir/models/D_epoch_50\"\n",
    "weights_path2 = \"ir/models/G_epoch_50\"\n",
    "\n",
    "# A model class instance (class not shown)\n",
    "generator = GeneratorNet(100, 784)\n",
    "discriminator = DiscrimatorNet(784, 1)\n",
    "\n",
    "# Load the weights from a file (.pth usually)\n",
    "state_dict1 = torch.load(weights_path1)\n",
    "state_dict2 = torch.load(weights_path2)\n",
    "\n",
    "# Load the weights now into a model net architecture defined by our class\n",
    "discriminator.load_state_dict(state_dict1)\n",
    "generator.load_state_dict(state_dict2)\n",
    "\n",
    "# Create the right input shape (e.g. for an image)\n",
    "N = 100\n",
    "real_data = torch.randn(100,784)\n",
    "fake_data = torch.randn(100,100)\n",
    "\n",
    "torch.onnx.export(discriminator, real_data, \"discriminator.onnx\")\n",
    "torch.onnx.export(generator, fake_data, \"generator.onnx\")"
   ]
  }
 ],
 "metadata": {
  "kernelspec": {
   "display_name": "Python 3",
   "language": "python",
   "name": "python3"
  },
  "language_info": {
   "codemirror_mode": {
    "name": "ipython",
    "version": 3
   },
   "file_extension": ".py",
   "mimetype": "text/x-python",
   "name": "python",
   "nbconvert_exporter": "python",
   "pygments_lexer": "ipython3",
   "version": "3.6.7"
  }
 },
 "nbformat": 4,
 "nbformat_minor": 2
}
